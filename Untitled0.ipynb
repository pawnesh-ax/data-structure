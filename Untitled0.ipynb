{
  "nbformat": 4,
  "nbformat_minor": 0,
  "metadata": {
    "colab": {
      "provenance": []
    },
    "kernelspec": {
      "name": "python3",
      "display_name": "Python 3"
    },
    "language_info": {
      "name": "python"
    }
  },
  "cells": [
    {
      "cell_type": "code",
      "execution_count": null,
      "metadata": {
        "id": "P3Pyld75gdvu"
      },
      "outputs": [],
      "source": []
    },
    {
      "cell_type": "markdown",
      "source": [
        "ASSIGNMENT: PYTHON DATA STRUCTURE"
      ],
      "metadata": {
        "id": "rETagPGdgiJ2"
      }
    },
    {
      "cell_type": "markdown",
      "source": [
        "THEORY QUESTIONS"
      ],
      "metadata": {
        "id": "9QPltdo8huLU"
      }
    },
    {
      "cell_type": "markdown",
      "source": [
        "Q1.What are data structures, and why are they important?\n",
        "\n",
        "ans->A data structure is a way of organizing, managing, and storing data in a computer so it can be accessed and modified efficiently. It provides a framework for working with data to perform various operations, such as searching, sorting, inserting, deleting, or updating.\n",
        "\n",
        "Common examples of data structures include:\n",
        "\n",
        "*List\n",
        "\n",
        "*Tuples\n",
        "\n",
        "*Dictionaries\n",
        "\n",
        "*Set\n",
        "\n",
        "why they are important Efficient Data Management\n",
        "\n",
        "Data structures allow you to organize and store data in a way that makes it easy to access, modify, and manipulate.\n",
        "\n",
        "Performance Optimization\n",
        "\n",
        "Choosing the right data structure directly affects the performance of your program.\n"
      ],
      "metadata": {
        "id": "CyHia2J8hyLI"
      }
    },
    {
      "cell_type": "markdown",
      "source": [
        "2.Explain the difference between mutable and immutable data types with examples?\n",
        "\n",
        "answ->In Python, data types are classified into mutable and immutable based on whether their values can be changed after they are created.\n",
        "\n",
        "a.Mutable Data Types\n",
        "\n",
        "Definition: Objects whose value can be modified after they are created.\n",
        "\n",
        "Key Property: The object’s identity (memory address) remains the same, but its content can be changed.\n",
        "\n",
        "b.Immutable Data Types\n",
        "\n",
        "Definition: Objects whose value cannot be modified after they are created.\n",
        "\n",
        "Key Property: Any operation that modifies the value creates a new object with a different identity (memory address).\n",
        "\n",
        "*Examples of Mutable Data Types\n",
        "\n",
        "List\n",
        "\n",
        "my_list = [1, 2, 3]\n",
        "\n",
        "print(id(my_list)) # Memory address of my_list\n",
        "\n",
        "my_list.append(4) # Modifies the list\n",
        "print(my_list) # Output: [1, 2, 3, 4]\n",
        "\n",
        "print(id(my_list)) # Same memory address as before\n",
        "\n",
        "*Examples of Immutable Data Types\n",
        "\n",
        "integer\n",
        "\n",
        "b = 10\n",
        "\n",
        "print(id(b)) # Memory address of x\n",
        "\n",
        "b = b + 1 # Creates a new integer object\n",
        "\n",
        "print(b) # Output: 11\n",
        "\n",
        "print(id(b)) # New memory address"
      ],
      "metadata": {
        "id": "I088sBUTiBia"
      }
    },
    {
      "cell_type": "markdown",
      "source": [
        "3.What are the main differences between lists and tuples in Python?\n",
        "\n",
        "\n",
        "Both lists and tuples are used to store collections of items in Python, but they differ in several important ways. Here's a detailed comparison:\n",
        "\n",
        "Mutability\n",
        "\n",
        "Lists: Mutable — their elements can be modified after creation.\n",
        "\n",
        "Tuples: Immutable — their elements cannot be changed after creation.\n",
        "\n",
        "Syntax\n",
        "\n",
        "Lists: Created using square brackets [].\n",
        "\n",
        "Tuples: Created using parentheses ().\n",
        "\n",
        "Performance\n",
        "\n",
        "Lists: Slower due to their mutable nature, as extra operations are needed for resizing and modification.\n",
        "\n",
        "Tuples: Faster because they are immutable and require less memory.\n",
        "Use Cases\n",
        "\n",
        "Lists: Used when the data is expected to change, such as dynamic collections of items.\n",
        "\n",
        "Tuples: Used when the data is fixed and should not change, such as coordinates or configuration settings"
      ],
      "metadata": {
        "id": "9y_M9xZCial_"
      }
    },
    {
      "cell_type": "markdown",
      "source": [
        "4.Describe how dictionaries store data?\n",
        "\n",
        "answ->Dictionaries in Python are implemented using a hash table data structure. This allows them to store and retrieve data efficiently, with an average time complexity of O(1) for lookups, insertions, and deletions. Here's a step-by-step explanation of how dictionaries work:\n",
        "\n",
        "Key-Value Pairs\n",
        "\n",
        "A dictionary stores data as key-value pairs. Each key in a dictionary is unique, while values can be duplicated.\n",
        "\n",
        "Hashing of Keys\n",
        "\n",
        "Keys must be hashable: Internally, when you use a key, Python computes a hash value using the key's hash() method.\n",
        "\n",
        "Storage in Buckets\n",
        "\n",
        "The dictionary uses an internal array of buckets (slots) to store key-value pairs.\n",
        "\n",
        "The hash value of the key determines which bucket the key-value pair is stored in:\n",
        "\n",
        "bucket_index = hash(key) % array_size This ensures the key-value pair is placed in a specific bucket.\n",
        "\n",
        "Collision Handling\n",
        "\n",
        "Collision occurs when two keys generate the same hash value and are assigned to the same bucket.\n",
        "\n",
        "Python handles collisions using a technique called open addressing:\n",
        "If a bucket is already occupied, the dictionary searches for the next available bucket to store the new key-value pair."
      ],
      "metadata": {
        "id": "AiD8g04NiqLT"
      }
    },
    {
      "cell_type": "markdown",
      "source": [
        "5.Why might you use a set instead of a list in Python?\n",
        "\n",
        "answ->Both sets and lists are used to store collections of items, but they are optimized for different use cases. Here are some reasons why you might choose a set over a list:\n",
        "\n",
        "Elimination of Duplicates\n",
        "\n",
        "Sets automatically remove duplicate items, while lists allow duplicates. If you need a collection of unique items, a set is the better choice.\n",
        "\n",
        "Faster Membership Testing\n",
        "\n",
        "Sets offer O(1) average time complexity for membership testing (e.g., x in set), while lists require O(n) because they need to iterate through all elements. Use sets when you need to frequently check if an element is in the collection."
      ],
      "metadata": {
        "id": "rDnn7gYri6bQ"
      }
    },
    {
      "cell_type": "markdown",
      "source": [
        "6.What is a string in Python, and how is it different from a list?\n",
        "\n",
        "answ->in Python, a string is a sequence of characters enclosed in either single (' ') or double (\" \") quotes. Strings are used to represent textual data. Strings are immutable data types, meaning once a string is created, its content cannot be changed. You can, however, create a new string based on modifications to the original.\n",
        "\n",
        "Characteristics of Strings:\n",
        "\n",
        "Immutable: Once created, the contents of a string cannot be changed.\n",
        "\n",
        "Indexable: Each character in a string has an index, starting from 0.\n",
        "\n",
        "Iterable: You can iterate over a string, character by character.\n",
        "\n",
        "Supports many methods: You can perform operations like concatenation, slicing, formatting, and searching on strings.\n",
        "\n",
        "Characteristics of Lists:\n",
        "\n",
        "Mutable: You can change, add, or remove elements in a list.\n",
        "\n",
        "Indexable: Each element in a list has an index, starting from 0.\n",
        "\n",
        "Iterable: You can iterate over a list, element by element. Supports various methods: Lists support operations like appending, removing elements, sorting, etc."
      ],
      "metadata": {
        "id": "7y86l3ZSjCOW"
      }
    },
    {
      "cell_type": "markdown",
      "source": [
        "\n",
        "\n",
        "7.How do tuples ensure data integrity in Python?\n",
        "\n",
        "answ->In Python, tuples are immutable data structures, which means that once a tuple is created, its contents cannot be modified, added, or removed. This immutability plays a significant role in ensuring data integrity, as it guarantees that the data inside a tuple remains consistent throughout its lifetime. Here's how tuples contribute to data integrity:\n",
        "\n",
        "Preventing Accidental Modifications\n",
        "\n",
        "Since tuples are immutable, the elements within them cannot be accidentally altered. If any operation tries to modify the contents of a tuple, Python will raise a TypeError, preventing any unintended changes.\n",
        "\n",
        "Ensuring Consistency in Multi-threaded Environments\n",
        "\n",
        "Because tuples are immutable, they provide a guarantee of thread safety in multi-threaded programs. When multiple threads access a tuple, there's no risk of one thread modifying the data while another thread is reading it, thus preventing inconsistencies.\n",
        "\n",
        "Protecting the Data from Corruption\n",
        "\n",
        "Since a tuple cannot be altered after creation, it is immune to accidental data corruption. If you pass a tuple to a function or share it between parts of a program, you can be confident that the data it holds will not change unexpectedly.Example:\n",
        "\n",
        "Use in Hashable Data Structures Tuples can be used as keys in dictionaries or elements in sets because they are hashable. In contrast, lists (which are mutable) cannot be used as dictionary keys or set elements. The immutability of tuples ensures that their hash value remains constant, allowing them to be reliably used as keys in hash-based data structures."
      ],
      "metadata": {
        "id": "7nww6pQqjOWJ"
      }
    },
    {
      "cell_type": "markdown",
      "source": [
        "8.What is a hash table, and how does it relate to dictionaries in Python?\n",
        "\n",
        "answ->A hash table (also known as a hash map) is a data structure that stores key-value pairs in a way that allows for efficient access, insertion, and deletion of elements. The main concept behind a hash table is the use of a hash function to map keys to indices in an internal array (or \"bucket\"). This allows for constant-time complexity on average for lookup, insertion, and deletion operations.\n",
        "\n",
        "How Python Relates to Hash Tables\n",
        "\n",
        "Hashing Keys in Python Dictionaries When you use a key in a Python dictionary, it is passed through a hash function to generate a unique hash value. This hash value determines where the corresponding value will be stored in an internal array or bucket. The process of hashing helps Python quickly locate the value associated with a given key.\n",
        "\n",
        "How Python Uses Hash Tables for Fast Lookup Python uses hash tables to achieve fast lookups. Once a key is hashed, Python can access the value in constant time, O(1), on average. This makes dictionary lookups very efficient, even with large datasets."
      ],
      "metadata": {
        "id": "pVMO5LTKjlUb"
      }
    },
    {
      "cell_type": "markdown",
      "source": [
        "9.Can lists contain different data types in Python?\n",
        "\n",
        "answ->Yes, lists in Python can contain different data types. Python lists are heterogeneous, meaning they can store a collection of items that are of different types. You can store integers, strings, floating-point numbers, lists, dictionaries, and even objects of custom classes all in the same list."
      ],
      "metadata": {
        "id": "NoVeYukWjwor"
      }
    },
    {
      "cell_type": "markdown",
      "source": [
        "10.Explain why strings are immutable in Python?\n",
        "\n",
        "answ->In Python, strings are immutable, meaning once a string is created, it cannot be changed. This immutability has several important reasons, both related to performance and design principles in Python. Let's break down the key reasons for this behavior:\n",
        "\n",
        "Efficiency and Memory Optimization\n",
        "\n",
        "String interning: In Python, strings are often interned, meaning that identical strings are stored in a single memory location. This helps save memory when you have many repeated strings in your program.\n",
        "\n",
        "For example, if you have multiple instances of the string \"hello\" in your program, Python ensures that all instances point to the same memory location instead of creating a new one each time. This is only possible because strings are immutable.\n",
        "\n",
        "If strings were mutable, modifying one instance would affect other instances that share the same string, which would introduce inconsistencies.\n",
        "\n",
        "Hashability\n",
        "\n",
        "Strings as dictionary keys: In Python, strings can be used as keys in dictionaries because they are hashable. A hashable object is one that has a fixed hash value, which does not change during its lifetime.\n",
        "\n",
        "If strings were mutable, their hash value could change if the string were modified, which would break their use as dictionary keys or elements in sets. By making strings immutable, Python ensures that their hash value remains constant. Example:"
      ],
      "metadata": {
        "id": "LZzakIFaj3Wz"
      }
    },
    {
      "cell_type": "markdown",
      "source": [
        "11.What advantages do dictionaries offer over lists for certain tasks?\n",
        "\n",
        "answ->Dictionaries offer several significant advantages over lists in Python for certain tasks, primarily due to their key-value structure, faster lookup times, and flexibility. Here are some of the key advantages:\n",
        "\n",
        "Faster Lookups (Constant Time Complexity)\n",
        "\n",
        "Dictionaries provide O(1) average time complexity for lookups, insertions, and deletions, making them much faster than lists for accessing elements by a specific key. In contrast, lists have O(n) time complexity for searching for an element by value because they require scanning through each item until a match is found.\n",
        "\n",
        "Key-Value Pair Structure\n",
        "\n",
        "Dictionaries store data as key-value pairs, which makes them ideal for tasks where you need to associate a unique key with a specific value. Lists store values in a sequential order, making it harder to pair values with specific identifiers."
      ],
      "metadata": {
        "id": "52K9mcrJkFWL"
      }
    },
    {
      "cell_type": "markdown",
      "source": [
        "12.Describe a scenario where using a tuple would be preferable over a list?\n",
        "\n",
        "answ->Using a tuple over a list would be preferable in scenarios where immutability, data integrity, and performance are important.\n",
        "\n",
        "a.Immutability (Data Integrity):\n",
        "\n",
        "Once the coordinates are set, they shouldn’t be modified accidentally or intentionally during the execution of the program. Since tuples are immutable, they ensure that the values cannot be changed, which guarantees the integrity of the data. If you used a list, there is a risk that someone might accidentally modify the coordinates (for example, mistakenly setting a new latitude or longitude).\n",
        "\n",
        "b.Performance:\n",
        "\n",
        "Tuples are typically faster than lists for iteration and access because they are immutable. The Python interpreter can optimize their memory usage and performance. If you only need to access the coordinates without modifying them, a tuple would provide a slight performance boost."
      ],
      "metadata": {
        "id": "yKxB78dzkHQf"
      }
    },
    {
      "cell_type": "markdown",
      "source": [
        "13.How do sets handle duplicate values in Python?\n",
        "\n",
        "answ->In Python, sets are designed to automatically remove duplicate values. A set is a collection of unique elements, meaning that when you try to add a duplicate item, it will be ignored, and the set will not contain any repeated elements."
      ],
      "metadata": {
        "id": "YfPsF_rUkT8w"
      }
    },
    {
      "cell_type": "markdown",
      "source": [
        "14.How does the “in” keyword work differently for lists and dictionaries?\n",
        "\n",
        "answ->The in keyword in Python is used to check if an element exists in a collection, but its behavior differs when applied to lists and dictionaries due to their underlying structures.\n",
        "\n",
        "a.Using in with Lists When the in keyword is used with a list, it checks if the value exists in the list. It searches through all the elements in the list to see if it finds a match.\n",
        "\n",
        "Time Complexity: The time complexity for checking membership in a list is O(n), where n is the number of elements in the list because Python has to iterate through each element one by one to check if the value is present.\n",
        "\n",
        "b.Using in with Dictionaries When the in keyword is used with a dictionary, it checks if the key exists in the dictionary, not the value. By default, Python will look for the key in the dictionary's keys.\n",
        "\n",
        "Time Complexity: The time complexity for checking membership in a dictionary is O(1) (average case), since dictionaries are implemented as hash tables, which allow fast lookups by key."
      ],
      "metadata": {
        "id": "Ju1Qy9F3kWcX"
      }
    },
    {
      "cell_type": "markdown",
      "source": [
        "15.Can you modify the elements of a tuple? Explain why or why not?\n",
        "\n",
        "answ->No, you cannot modify the elements of a tuple in Python because tuples are immutable data structures.\n",
        "\n",
        "Immutability means that once a tuple is created, you cannot change its contents. This includes not being able to modify, add, or remove elements after the tuple is created.\n",
        "\n",
        "The key reason for this is that tuples are designed to guarantee data integrity. By making them immutable, you ensure that the data they hold cannot be altered accidentally or intentionally during program execution. This can be useful in situations where you want to maintain constant, unchanging data throughout the lifetime of the program.\n",
        "\n",
        "What You Can and Cannot Do with Tuples: You can:\n",
        "\n",
        "Access elements of a tuple using indexing, similar to lists.\n",
        "\n",
        "Concatenate tuples to create new tuples.\n",
        "\n",
        "Slice tuples to extract parts of them.\n",
        "\n",
        "You cannot:\n",
        "\n",
        "Change the value of an existing element.\n",
        "\n",
        "Add or remove elements.\n",
        "Reassign the tuple itself to a different value (although you can reassign the variable holding the tuple)."
      ],
      "metadata": {
        "id": "SXN-Juh_kasP"
      }
    },
    {
      "cell_type": "markdown",
      "source": [
        "16.What is a nested dictionary, and give an example of its use case?\n",
        "\n",
        "answ->A nested dictionary in Python is a dictionary where the value of one or more keys is itself another dictionary. This allows you to represent more complex data structures where each dictionary can contain sub-dictionaries, which in turn can contain further dictionaries, and so on.\n",
        "\n",
        "Example of a Nested Dictionary: Let's say we are managing a school's database, and we want to store information about multiple students. Each student has a name, age, and a list of grades, and each grade can be associated with a specific subject. This scenario is a great use case for a nested dictionary.\n",
        "\n",
        "Nested dictionary example:"
      ],
      "metadata": {
        "id": "eACsJeJkkmlZ"
      }
    },
    {
      "cell_type": "code",
      "source": [
        "school = {\n",
        "\n",
        "\"student1\": {\n",
        "    \"name\": \"John\",\n",
        "    \"age\": 15,\n",
        "    \"grades\": {\n",
        "        \"math\": 90,\n",
        "        \"english\": 85,\n",
        "        \"history\": 88\n",
        "    }\n",
        "},\n",
        "\n",
        "\"student2\": {\n",
        "    \"name\": \"Jane\",\n",
        "    \"age\": 16,\n",
        "    \"grades\": {\n",
        "        \"math\": 92,\n",
        "        \"english\": 89,\n",
        "        \"history\": 91\n",
        "    }\n",
        "},\n",
        "\n",
        "\"student3\": {\n",
        "    \"name\": \"Alice\",\n",
        "    \"age\": 15,\n",
        "    \"grades\": {\n",
        "        \"math\": 85,\n",
        "         \"english\": 90,\n",
        "        \"history\": 87\n",
        "    }\n",
        "}\n",
        "}"
      ],
      "metadata": {
        "id": "lGPfqevEk2fW"
      },
      "execution_count": 2,
      "outputs": []
    },
    {
      "cell_type": "markdown",
      "source": [
        "17.Describe the time complexity of accessing elements in a dictionary?\n",
        "\n",
        "answ->In Python, dictionaries are implemented using hash tables, which allow for efficient data retrieval. The time complexity for accessing elements in a dictionary depends on the operation you are performing, but generally, dictionary lookups are very fast.\n",
        "\n",
        "Time Complexity of Accessing Elements in a Dictionary\n",
        "\n",
        "a.Average Case (O(1)):\n",
        "\n",
        "Accessing a value by key: In the average case, accessing a value using a key in a dictionary is done in constant time, O(1). This is because dictionaries use hashing to quickly compute the hash value of the key and directly locate the corresponding value in memory. This allows for fast access, regardless of the size of the dictionary.\n",
        "\n",
        "b.Worst Case (O(n)):\n",
        "\n",
        "In rare cases, the time complexity can degrade to O(n), where n is the number of items in the dictionary. This happens in situations where there are hash collisions (i.e., multiple keys are hashed to the same location in the hash table). If a large number of keys end up in the same bucket, the dictionary may need to perform a search through the elements in that bucket to find the correct one. However, this is very unlikely in practice due to Python’s efficient hashing algorithm, and hash tables are generally designed to handle collisions well, keeping the worst-case performance rare."
      ],
      "metadata": {
        "id": "Yop9_rsSlXTC"
      }
    },
    {
      "cell_type": "markdown",
      "source": [
        "18.In what situations are lists preferred over dictionaries?\n",
        "\n",
        "answ->Lists are preferred over dictionaries in the following situations:\n",
        "\n",
        "When the Data is Ordered:\n",
        "\n",
        "Lists maintain the order of elements, which is important when you need to preserve the sequence of data. If you need to access elements in the order they were added, lists are the better choice. Example: A list of dates, tasks, or events where the order is important.\n",
        "\n",
        "When You Need to Access Elements by Index:\n",
        "\n",
        "Lists provide indexed access, meaning you can retrieve elements directly by their position (index) in the list. This is useful when you need to work with data in a specific order or sequence. Example: Accessing an element at a specific position, like the first or last item in a list"
      ],
      "metadata": {
        "id": "UFHcS3GIldYK"
      }
    },
    {
      "cell_type": "markdown",
      "source": [
        "19.Why are dictionaries considered unordered, and how does that affect data retrieval?\n",
        "\n",
        "answ->Dictionaries in Python are considered unordered because the elements are stored in a way that does not guarantee the order in which they were added. In earlier versions of Python (before Python 3.7), dictionaries had no inherent order, meaning that the order of key-value pairs was not maintained. Starting from Python 3.7, dictionaries preserve insertion order—this means that the order of items in the dictionary will be the same as the order in which they were inserted. However, dictionaries are still technically considered unordered because their main purpose is not to maintain order but to provide efficient key-value lookups.\n",
        "\n",
        "How Does This Affect Data Retrieval?\n",
        "\n",
        "Accessing Elements by Key:\n",
        "\n",
        "The unordered nature of dictionaries doesn't affect how you access elements by their key. You can still retrieve a value efficiently in O(1) time, regardless of the order of the elements. You access elements using keys, not their position in the dictionary. Therefore, data retrieval in a dictionary is always fast and consistent, as long as you know the key.\n",
        "\n",
        "Iteration:\n",
        "\n",
        "In Python 3.7 and later, dictionaries preserve insertion order, so when you iterate over a dictionary, the order of items will be the same as when they were added. However, since dictionaries are designed for key-value lookups, order is secondary to the ability to retrieve values efficiently. If you iterate over the dictionary (e.g., using a for loop), the items will be returned in insertion order in Python 3.7+, but in earlier versions, you cannot rely on any order at all."
      ],
      "metadata": {
        "id": "UY1Uomcsln2r"
      }
    },
    {
      "cell_type": "markdown",
      "source": [
        "20.Explain the difference between a list and a dictionary in terms of data retrieval?\n",
        "\n",
        "answ->The primary difference between a list and a dictionary in terms of data retrieval lies in how you access elements and the structure of the data.\n",
        "\n",
        "Accessing Elements by Index (List):\n",
        "\n",
        "Lists are ordered collections of elements, and each element is assigned a numerical index starting from 0.\n",
        "\n",
        "To retrieve an element in a list, you use its index. The list allows indexed access to elements, which makes it efficient to get a value if you know its position.\n",
        "\n",
        "Time Complexity: Accessing an element by index in a list is O(1), or constant time, because the index is directly mapped to a position in memory.\n",
        "\n",
        "Accessing Elements by Key (Dictionary):\n",
        "\n",
        "Dictionaries are unordered collections of key-value pairs. Instead of accessing values by their position (index), you retrieve a value by using its unique key.\n",
        "\n",
        "Each key in a dictionary must be unique, and you use the key to access its corresponding value."
      ],
      "metadata": {
        "id": "TvXq1ty6lxvW"
      }
    },
    {
      "cell_type": "markdown",
      "source": [
        "PRACTICAL QUESTIONS\n"
      ],
      "metadata": {
        "id": "Pgg3usPXl8ZX"
      }
    },
    {
      "cell_type": "markdown",
      "source": [
        "#1.Write a code to create a string with your name and print it."
      ],
      "metadata": {
        "id": "6pY1AyeWmAO4"
      }
    },
    {
      "cell_type": "code",
      "source": [
        "name=\"PAWNESH TIWARI\"\n",
        "print(f\"my name is {name}\")"
      ],
      "metadata": {
        "colab": {
          "base_uri": "https://localhost:8080/"
        },
        "id": "RzShClmDl6mG",
        "outputId": "703049a9-0d53-4290-e707-e51478b3154e"
      },
      "execution_count": 3,
      "outputs": [
        {
          "output_type": "stream",
          "name": "stdout",
          "text": [
            "my name is PAWNESH TIWARI\n"
          ]
        }
      ]
    },
    {
      "cell_type": "markdown",
      "source": [
        "#2.Write a code to find the length of the string \"Hello World\"."
      ],
      "metadata": {
        "id": "rPOTLbAimO6s"
      }
    },
    {
      "cell_type": "code",
      "source": [
        "string=\"hello world\"\n",
        "print(len(string))"
      ],
      "metadata": {
        "colab": {
          "base_uri": "https://localhost:8080/"
        },
        "id": "-NHvSYQxmS2e",
        "outputId": "06313c80-1133-4ed1-bc2f-b0738804a36e"
      },
      "execution_count": 4,
      "outputs": [
        {
          "output_type": "stream",
          "name": "stdout",
          "text": [
            "11\n"
          ]
        }
      ]
    },
    {
      "cell_type": "markdown",
      "source": [
        "#3.Write a code to slice the first 3 characters from the string \"Python Programming\"."
      ],
      "metadata": {
        "id": "mi8Eog2nmY6m"
      }
    },
    {
      "cell_type": "code",
      "source": [
        "string=\"python programing\"\n",
        "print(string[0:3 ])"
      ],
      "metadata": {
        "colab": {
          "base_uri": "https://localhost:8080/"
        },
        "id": "qUTGQxENmdyc",
        "outputId": "8a155564-1806-4b37-c2a3-b11761584be2"
      },
      "execution_count": 5,
      "outputs": [
        {
          "output_type": "stream",
          "name": "stdout",
          "text": [
            "pyt\n"
          ]
        }
      ]
    },
    {
      "cell_type": "markdown",
      "source": [
        "#4.Write a code to convert the string \"hello\" to uppercase."
      ],
      "metadata": {
        "id": "7w0eSxbTmjd1"
      }
    },
    {
      "cell_type": "code",
      "source": [
        "string=\"hello\"\n",
        "print(string.upper())"
      ],
      "metadata": {
        "colab": {
          "base_uri": "https://localhost:8080/"
        },
        "id": "srGQADGamn-T",
        "outputId": "97c3ad08-5a60-4d43-c608-8bde36d1e7af"
      },
      "execution_count": 6,
      "outputs": [
        {
          "output_type": "stream",
          "name": "stdout",
          "text": [
            "HELLO\n"
          ]
        }
      ]
    },
    {
      "cell_type": "markdown",
      "source": [
        "#5.Write a code to replace the word \"apple\" with \"orange\" in the string \"I like apple\"."
      ],
      "metadata": {
        "id": "k44iCLd4mwyC"
      }
    },
    {
      "cell_type": "code",
      "source": [
        "string=\"apple\"\n",
        "print(string)\n",
        "b=string.replace(\"apple\",\"orange\")\n",
        "print(b)"
      ],
      "metadata": {
        "colab": {
          "base_uri": "https://localhost:8080/"
        },
        "id": "T0vcp-6smyD6",
        "outputId": "a62ac7d2-bd76-44ec-92f6-700b05026141"
      },
      "execution_count": 7,
      "outputs": [
        {
          "output_type": "stream",
          "name": "stdout",
          "text": [
            "apple\n",
            "orange\n"
          ]
        }
      ]
    },
    {
      "cell_type": "markdown",
      "source": [
        "#6.Write a code to create a list with numbers 1 to 5 and print it."
      ],
      "metadata": {
        "id": "n_FuF0rvm3eM"
      }
    },
    {
      "cell_type": "code",
      "source": [
        "myon_list=[1,2,3,4,5]\n",
        "print(myon_list)"
      ],
      "metadata": {
        "colab": {
          "base_uri": "https://localhost:8080/"
        },
        "id": "cHz3VqkZm7nX",
        "outputId": "4da26519-fac5-4964-b4a5-30c593f52a72"
      },
      "execution_count": 8,
      "outputs": [
        {
          "output_type": "stream",
          "name": "stdout",
          "text": [
            "[1, 2, 3, 4, 5]\n"
          ]
        }
      ]
    },
    {
      "cell_type": "markdown",
      "source": [
        "#7.Write a code to append the number 10 to the list [1, 2, 3, 4]."
      ],
      "metadata": {
        "id": "9doiXNW5nBLB"
      }
    },
    {
      "cell_type": "code",
      "source": [
        "myon_list=[1,2,3,4]\n",
        "myon_list.append(10)\n",
        "print(myon_list)\n",
        "print(type(myon_list))"
      ],
      "metadata": {
        "colab": {
          "base_uri": "https://localhost:8080/"
        },
        "id": "CHXj03FpnFhf",
        "outputId": "95e6018a-798d-49b6-bf25-d94e451b4aee"
      },
      "execution_count": 9,
      "outputs": [
        {
          "output_type": "stream",
          "name": "stdout",
          "text": [
            "[1, 2, 3, 4, 10]\n",
            "<class 'list'>\n"
          ]
        }
      ]
    },
    {
      "cell_type": "markdown",
      "source": [
        "#8.Write a code to remove the number 3 from the list [1, 2, 3, 4, 5]."
      ],
      "metadata": {
        "id": "C6Z3GUlEnKio"
      }
    },
    {
      "cell_type": "code",
      "source": [
        "myon_list=[1,2,3,4,5]\n",
        "print(\"original list\")\n",
        "print(myon_list)\n",
        "myon_list.remove(4)\n",
        "print(\"after remove 4\")\n",
        "print(myon_list)"
      ],
      "metadata": {
        "colab": {
          "base_uri": "https://localhost:8080/"
        },
        "id": "GhtrNvfAnOxG",
        "outputId": "fe2445f0-23d4-4deb-ec79-869490eb9527"
      },
      "execution_count": 10,
      "outputs": [
        {
          "output_type": "stream",
          "name": "stdout",
          "text": [
            "original list\n",
            "[1, 2, 3, 4, 5]\n",
            "after remove 4\n",
            "[1, 2, 3, 5]\n"
          ]
        }
      ]
    },
    {
      "cell_type": "markdown",
      "source": [
        "#9.Write a code to access the second element in the list ['a', 'b', 'c', 'd']."
      ],
      "metadata": {
        "id": "WQkhdpo9nTf5"
      }
    },
    {
      "cell_type": "code",
      "source": [
        "myon_list=['a','b','c','d']\n",
        "print(myon_list[1])"
      ],
      "metadata": {
        "colab": {
          "base_uri": "https://localhost:8080/"
        },
        "id": "tfVyKVErnXln",
        "outputId": "98b4aa89-37c8-4514-9dc2-ae27c704b1bc"
      },
      "execution_count": 11,
      "outputs": [
        {
          "output_type": "stream",
          "name": "stdout",
          "text": [
            "b\n"
          ]
        }
      ]
    },
    {
      "cell_type": "markdown",
      "source": [
        "#10.Write a code to reverse the list [10, 20, 30, 40, 50]."
      ],
      "metadata": {
        "id": "BWA5fNwMnfCu"
      }
    },
    {
      "cell_type": "code",
      "source": [
        "myon_list=[10,20,30,40,50]\n",
        "print(\"original list\")\n",
        "print(myon_list)\n",
        "print(\"reverse list\")\n",
        "myon_list.reverse()\n",
        "print(myon_list)\n"
      ],
      "metadata": {
        "colab": {
          "base_uri": "https://localhost:8080/"
        },
        "id": "pcXn7zEhngeG",
        "outputId": "f88f6481-377b-475f-c373-0643224b18ae"
      },
      "execution_count": 12,
      "outputs": [
        {
          "output_type": "stream",
          "name": "stdout",
          "text": [
            "original list\n",
            "[10, 20, 30, 40, 50]\n",
            "reverse list\n",
            "[50, 40, 30, 20, 10]\n"
          ]
        }
      ]
    },
    {
      "cell_type": "markdown",
      "source": [
        " #11.Write a code to create a tuple with the elements 10, 20, 30 and print it"
      ],
      "metadata": {
        "id": "dAkdjKK2nxkW"
      }
    },
    {
      "cell_type": "code",
      "source": [
        "ab=(10,20,30,40)\n",
        "print(ab)"
      ],
      "metadata": {
        "colab": {
          "base_uri": "https://localhost:8080/"
        },
        "id": "b5KFWnVan-Ra",
        "outputId": "9c8e5282-ec50-484d-ea4c-eb4207f4aa42"
      },
      "execution_count": 13,
      "outputs": [
        {
          "output_type": "stream",
          "name": "stdout",
          "text": [
            "(10, 20, 30, 40)\n"
          ]
        }
      ]
    },
    {
      "cell_type": "markdown",
      "source": [
        "#12.Write a code to access the first element of the tuple ('apple', 'banana', 'cherry')."
      ],
      "metadata": {
        "id": "MN0bnObwoEvZ"
      }
    },
    {
      "cell_type": "code",
      "source": [
        "ab=('apple','banana','cherry')\n",
        "print(ab[0])"
      ],
      "metadata": {
        "colab": {
          "base_uri": "https://localhost:8080/"
        },
        "id": "B_2Q0WdRoJSl",
        "outputId": "8265cde9-a251-49d4-fc17-a8e98ce5928a"
      },
      "execution_count": 14,
      "outputs": [
        {
          "output_type": "stream",
          "name": "stdout",
          "text": [
            "apple\n"
          ]
        }
      ]
    },
    {
      "cell_type": "markdown",
      "source": [
        "#13.Write a code to count how many times the number 2 appears in the tuple (1, 2, 3, 2, 4, 2)."
      ],
      "metadata": {
        "id": "UQwFtcMZoMpx"
      }
    },
    {
      "cell_type": "code",
      "source": [
        "ab=(1,2,3,2,4,2)\n",
        "print(ab.count(2))"
      ],
      "metadata": {
        "colab": {
          "base_uri": "https://localhost:8080/"
        },
        "id": "duiYq52YoQjd",
        "outputId": "71dc4c7b-43ed-43e5-dc2d-59fe69af515b"
      },
      "execution_count": 15,
      "outputs": [
        {
          "output_type": "stream",
          "name": "stdout",
          "text": [
            "3\n"
          ]
        }
      ]
    },
    {
      "cell_type": "markdown",
      "source": [
        "#14.Write a code to find the index of the element \"cat\" in the tuple ('dog', 'cat', 'rabbit')."
      ],
      "metadata": {
        "id": "0-RZxapJoWDk"
      }
    },
    {
      "cell_type": "code",
      "source": [
        "ab=('dog','cat','rabbit')\n",
        "print(ab.index('cat'))"
      ],
      "metadata": {
        "colab": {
          "base_uri": "https://localhost:8080/"
        },
        "id": "5Zj_dNsToaF4",
        "outputId": "76732ce7-d6a4-4420-a5c1-12fc0337f8e9"
      },
      "execution_count": 16,
      "outputs": [
        {
          "output_type": "stream",
          "name": "stdout",
          "text": [
            "1\n"
          ]
        }
      ]
    },
    {
      "cell_type": "markdown",
      "source": [
        "#15.Write a code to check if the element \"banana\" is in the tuple ('apple', 'orange', 'banana')."
      ],
      "metadata": {
        "id": "yXKr6JtXog7X"
      }
    },
    {
      "cell_type": "code",
      "source": [
        "ab=('apple','orange','banana')\n",
        "print(\"banana\" in ab)"
      ],
      "metadata": {
        "colab": {
          "base_uri": "https://localhost:8080/"
        },
        "id": "8m8ViwaVoh6I",
        "outputId": "7a7b6d75-6e48-4a7d-cd0b-8b5a43189fe1"
      },
      "execution_count": 17,
      "outputs": [
        {
          "output_type": "stream",
          "name": "stdout",
          "text": [
            "True\n"
          ]
        }
      ]
    },
    {
      "cell_type": "markdown",
      "source": [
        "#16.Write a code to create a set with the elements 1, 2, 3, 4, 5 and print it."
      ],
      "metadata": {
        "id": "hxOs8xfRo5f9"
      }
    },
    {
      "cell_type": "code",
      "source": [
        "ab={1,2,3,4,5}\n",
        "print(ab)"
      ],
      "metadata": {
        "colab": {
          "base_uri": "https://localhost:8080/"
        },
        "id": "k3sXZFd8o6nz",
        "outputId": "3a57ca64-3bf9-407f-f228-7872eae59a0c"
      },
      "execution_count": 18,
      "outputs": [
        {
          "output_type": "stream",
          "name": "stdout",
          "text": [
            "{1, 2, 3, 4, 5}\n"
          ]
        }
      ]
    },
    {
      "cell_type": "markdown",
      "source": [
        "#17.Write a code to add the element 6 to the set {1, 2, 3, 4}."
      ],
      "metadata": {
        "id": "U2oXQgKSo-S8"
      }
    },
    {
      "cell_type": "code",
      "source": [
        "ab={1,2,3,4}\n",
        "print(ab)\n",
        "ab.add(6)\n",
        "print(ab)"
      ],
      "metadata": {
        "colab": {
          "base_uri": "https://localhost:8080/"
        },
        "id": "sA3p34ENpC7a",
        "outputId": "ff2fcfb6-587a-4397-8d9e-cdf1d3c7f718"
      },
      "execution_count": 19,
      "outputs": [
        {
          "output_type": "stream",
          "name": "stdout",
          "text": [
            "{1, 2, 3, 4}\n",
            "{1, 2, 3, 4, 6}\n"
          ]
        }
      ]
    },
    {
      "cell_type": "markdown",
      "source": [
        "#18.Write a code to create a tuple with the elements 10, 20, 30 and print it."
      ],
      "metadata": {
        "id": "HMFZwmvNpH7J"
      }
    },
    {
      "cell_type": "code",
      "source": [
        "ab=(10,20,30)\n",
        "print(ab)"
      ],
      "metadata": {
        "colab": {
          "base_uri": "https://localhost:8080/"
        },
        "id": "9F2eCCUDpLGf",
        "outputId": "9223ce76-3c2f-4648-aebc-9ea24fdc2ac7"
      },
      "execution_count": 20,
      "outputs": [
        {
          "output_type": "stream",
          "name": "stdout",
          "text": [
            "(10, 20, 30)\n"
          ]
        }
      ]
    },
    {
      "cell_type": "markdown",
      "source": [
        "#19.Write a code to access the first element of the tuple ('apple', 'banana', 'cherry')."
      ],
      "metadata": {
        "id": "cBIVa_LXpPbJ"
      }
    },
    {
      "cell_type": "code",
      "source": [
        "ab=('apple','banana','cherry')\n",
        "print(ab[0])"
      ],
      "metadata": {
        "colab": {
          "base_uri": "https://localhost:8080/"
        },
        "id": "ZGRzJb8NpTP1",
        "outputId": "6ccd429d-2774-4949-e8ea-bc6ef5132faf"
      },
      "execution_count": 21,
      "outputs": [
        {
          "output_type": "stream",
          "name": "stdout",
          "text": [
            "apple\n"
          ]
        }
      ]
    },
    {
      "cell_type": "markdown",
      "source": [
        "#20.Write a code to count how many times the number 2 appears in the tuple (1, 2, 3, 2, 4, 2)."
      ],
      "metadata": {
        "id": "9CCXx9TqpZxF"
      }
    },
    {
      "cell_type": "code",
      "source": [
        "ab=(1,2,3,2,4,2)\n",
        "print(ab.count(2))"
      ],
      "metadata": {
        "colab": {
          "base_uri": "https://localhost:8080/"
        },
        "id": "snQZ7gItpazH",
        "outputId": "4f7dcf0b-04e2-4bb6-ae0c-1135a795d337"
      },
      "execution_count": 22,
      "outputs": [
        {
          "output_type": "stream",
          "name": "stdout",
          "text": [
            "3\n"
          ]
        }
      ]
    },
    {
      "cell_type": "markdown",
      "source": [
        "#21.Write a code to find the index of the element \"cat\" in the tuple ('dog', 'cat', 'rabbit')."
      ],
      "metadata": {
        "id": "NSh8_Gafphwc"
      }
    },
    {
      "cell_type": "code",
      "source": [
        "ab=('dog','cat','rabbit')\n",
        "print(ab.index('cat'))"
      ],
      "metadata": {
        "colab": {
          "base_uri": "https://localhost:8080/"
        },
        "id": "KMzNmexppi2C",
        "outputId": "e51f9bdb-86a8-404b-e9d8-046ccfede97a"
      },
      "execution_count": 23,
      "outputs": [
        {
          "output_type": "stream",
          "name": "stdout",
          "text": [
            "1\n"
          ]
        }
      ]
    },
    {
      "cell_type": "markdown",
      "source": [
        "#22.Write a code to check if the element \"banana\" is in the tuple ('apple', 'orange', 'banana')"
      ],
      "metadata": {
        "id": "AKw5dWLippBF"
      }
    },
    {
      "cell_type": "code",
      "source": [
        "ab=('apple','orange','banana')\n",
        "print(\"banana\" in ab)"
      ],
      "metadata": {
        "colab": {
          "base_uri": "https://localhost:8080/"
        },
        "id": "rSXzjGcLpsQq",
        "outputId": "a3b20d20-3230-4449-ee00-fc66d14b291c"
      },
      "execution_count": 24,
      "outputs": [
        {
          "output_type": "stream",
          "name": "stdout",
          "text": [
            "True\n"
          ]
        }
      ]
    },
    {
      "cell_type": "markdown",
      "source": [
        "#23.Write a code to create a set with the elements 1, 2, 3, 4, 5 and print it."
      ],
      "metadata": {
        "id": "wdGOAVQZpv8T"
      }
    },
    {
      "cell_type": "code",
      "source": [
        "ab={1,2,3,4,5}\n",
        "print(ab)"
      ],
      "metadata": {
        "colab": {
          "base_uri": "https://localhost:8080/"
        },
        "id": "L4WYBZg_pz9y",
        "outputId": "47b7c188-3651-4a5e-ca79-d0004d2033dc"
      },
      "execution_count": 25,
      "outputs": [
        {
          "output_type": "stream",
          "name": "stdout",
          "text": [
            "{1, 2, 3, 4, 5}\n"
          ]
        }
      ]
    },
    {
      "cell_type": "markdown",
      "source": [
        "#24.Write a code to add the element 6 to the set {1, 2, 3, 4}."
      ],
      "metadata": {
        "id": "w3WCBHwup32v"
      }
    },
    {
      "cell_type": "code",
      "source": [
        "ab={1,2,3,4}\n",
        "print(ab)\n",
        "ab.add(6)\n",
        "print(ab)"
      ],
      "metadata": {
        "colab": {
          "base_uri": "https://localhost:8080/"
        },
        "id": "DHh3czr6p7By",
        "outputId": "c5726a88-21c4-4888-b0d2-39a73a8caa88"
      },
      "execution_count": 26,
      "outputs": [
        {
          "output_type": "stream",
          "name": "stdout",
          "text": [
            "{1, 2, 3, 4}\n",
            "{1, 2, 3, 4, 6}\n"
          ]
        }
      ]
    },
    {
      "cell_type": "markdown",
      "source": [],
      "metadata": {
        "id": "GwFH4bLdpzNb"
      }
    },
    {
      "cell_type": "code",
      "source": [],
      "metadata": {
        "id": "jWJQ4ganphKO"
      },
      "execution_count": null,
      "outputs": []
    },
    {
      "cell_type": "code",
      "source": [],
      "metadata": {
        "id": "jUxaZATxn1HQ"
      },
      "execution_count": null,
      "outputs": []
    },
    {
      "cell_type": "markdown",
      "source": [],
      "metadata": {
        "id": "1O-puBRth3r6"
      }
    }
  ]
}